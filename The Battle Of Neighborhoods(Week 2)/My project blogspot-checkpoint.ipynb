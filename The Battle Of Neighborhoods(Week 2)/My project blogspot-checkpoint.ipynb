{
 "cells": [
  {
   "cell_type": "markdown",
   "metadata": {},
   "source": [
    "### Link for my notebook on IBM Watson Studio:\n",
    "https://eu-gb.dataplatform.cloud.ibm.com/analytics/notebooks/v2/72f8c8dd-3fec-4828-9018-3e87d760c782/view?access_token=52acdd626f39f850a40f30042ffd67d52cc2854208bb501532f21998ebe50495\n",
    "\n",
    "### Link for my github repository:\n",
    "https://github.com/Koushik-varma/Coursera_Capstone\n",
    "\n",
    "### Link for my final project notebook:\n",
    "https://github.com/Koushik-varma/Coursera_Capstone/blob/master/The%20Battle%20of%20Neighborhoods%20(Week%202)/Notebook%20for%20final%20project.ipynb\n",
    "\n",
    "### Link for my final project Report:\n",
    "https://github.com/Koushik-varma/Coursera_Capstone/blob/master/The%20Battle%20of%20Neighborhoods%20(Week%202)/Final%20report%20for%20the%20project-checkpoint.ipynb"
   ]
  }
 ],
 "metadata": {
  "kernelspec": {
   "display_name": "Python 3",
   "language": "python",
   "name": "python3"
  },
  "language_info": {
   "codemirror_mode": {
    "name": "ipython",
    "version": 3
   },
   "file_extension": ".py",
   "mimetype": "text/x-python",
   "name": "python",
   "nbconvert_exporter": "python",
   "pygments_lexer": "ipython3",
   "version": "3.7.1"
  }
 },
 "nbformat": 4,
 "nbformat_minor": 2
}
